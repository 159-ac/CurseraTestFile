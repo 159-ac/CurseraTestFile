{
 "cells": [
  {
   "cell_type": "markdown",
   "id": "7416807d45348890",
   "metadata": {
    "collapsed": false
   },
   "source": [
    "<h1>Data Science Tools and Ecosystem</h1>"
   ]
  },
  {
   "cell_type": "markdown",
   "id": "3c966ed0601df5e8",
   "metadata": {
    "collapsed": false
   },
   "source": [
    "# Introduction\n",
    "\n",
    "In this notebook, Data Science Tools and Ecosystem are summarized."
   ]
  },
  {
   "cell_type": "markdown",
   "id": "52c2f6c2f25736df",
   "metadata": {
    "collapsed": false
   },
   "source": [
    "# Data Science Languages\n",
    "\n",
    "Some of the popular languages that Data Scientists use are:\n",
    "\n",
    "1. Python\n",
    "2. R\n",
    "3. SQL\n",
    "4. Julia\n",
    "5. Scala"
   ]
  },
  {
   "cell_type": "markdown",
   "id": "519fe0da4c8192cb",
   "metadata": {
    "collapsed": false
   },
   "source": [
    "# Data Science Libraries\n",
    "\n",
    "Some of the commonly used libraries by Data Scientists include:\n",
    "\n",
    "1. Pandas\n",
    "2. NumPy\n",
    "3. Matplotlib\n",
    "4. Scikit-learn\n",
    "5. TensorFlow"
   ]
  },
  {
   "cell_type": "markdown",
   "id": "de6c7c061a4a981d",
   "metadata": {
    "collapsed": false
   },
   "source": [
    "# Data Science Tools\n",
    "\n",
    "| Data Science Tools           |\n",
    "|------------------------------|\n",
    "| Jupyter Notebook             |\n",
    "| RStudio                      |\n",
    "| Apache Zeppelin              |"
   ]
  },
  {
   "cell_type": "markdown",
   "id": "14b7f6c0a6a66c67",
   "metadata": {
    "collapsed": false
   },
   "source": [
    "### Arithmetic Expression Examples\n",
    "\n",
    "### introductory sentence about arithmetic expression"
   ]
  },
  {
   "cell_type": "code",
   "execution_count": 2,
   "id": "e3871990514899ef",
   "metadata": {
    "ExecuteTime": {
     "end_time": "2024-08-14T00:24:32.086124Z",
     "start_time": "2024-08-14T00:24:32.064466Z"
    },
    "collapsed": false
   },
   "outputs": [
    {
     "data": {
      "text/plain": [
       "30"
      ]
     },
     "execution_count": 2,
     "metadata": {},
     "output_type": "execute_result"
    }
   ],
   "source": [
    "(5 * 5) + 5"
   ]
  },
  {
   "cell_type": "code",
   "execution_count": 4,
   "id": "c1ea6fa52d9adfff",
   "metadata": {
    "ExecuteTime": {
     "end_time": "2024-08-14T00:24:32.117629Z",
     "start_time": "2024-08-14T00:24:32.100330Z"
    },
    "collapsed": false
   },
   "outputs": [
    {
     "data": {
      "text/plain": [
       "3.3333333333333335"
      ]
     },
     "execution_count": 4,
     "metadata": {},
     "output_type": "execute_result"
    }
   ],
   "source": [
    "# This will convert 200 minutes to hours by dividing by 60\n",
    "200 / 60"
   ]
  },
  {
   "cell_type": "markdown",
   "id": "82cba92a7eb6d718",
   "metadata": {
    "collapsed": false
   },
   "source": [
    "**Objectives:**\n",
    "\n",
    "- List popular languages for Data Science\n",
    "- Identify commonly used libraries in Data Science\n",
    "- Provide examples of arithmetic expressions in Python\n",
    "- Convert time units using Python expressions\n",
    "- Introduce development environment tools used in Data Science"
   ]
  },
  {
   "cell_type": "markdown",
   "id": "16534ea92f55ae2e",
   "metadata": {
    "collapsed": false
   },
   "source": [
    "## Author\n",
    "\n",
    "Aman Chaurasia"
   ]
  },
  {
   "cell_type": "code",
   "execution_count": 4,
   "id": "d1178973d57e7c94",
   "metadata": {
    "ExecuteTime": {
     "end_time": "2024-08-14T00:24:32.133189Z",
     "start_time": "2024-08-14T00:24:32.120726Z"
    },
    "collapsed": false
   },
   "outputs": [],
   "source": []
  }
 ],
 "metadata": {
  "kernelspec": {
   "display_name": "Python 3",
   "language": "python",
   "name": "python3"
  },
  "language_info": {
   "codemirror_mode": {
    "name": "ipython",
    "version": 3
   },
   "file_extension": ".py",
   "mimetype": "text/x-python",
   "name": "python",
   "nbconvert_exporter": "python",
   "pygments_lexer": "ipython3",
   "version": "3.11.7"
  }
 },
 "nbformat": 4,
 "nbformat_minor": 5
}
